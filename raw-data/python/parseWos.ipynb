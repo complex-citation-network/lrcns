{
 "cells": [
  {
   "cell_type": "code",
   "execution_count": 1,
   "metadata": {},
   "outputs": [],
   "source": [
    "import json\n",
    "import os\n",
    "import ast\n",
    "import numpy as np \n",
    "import networkx as nx"
   ]
  },
  {
   "cell_type": "code",
   "execution_count": 2,
   "metadata": {},
   "outputs": [],
   "source": [
    "#\n",
    "RAW_DIR = \"../raw/\"\n",
    "LIST_RAW_CSV = \"../list_raw/all.csv\"\n",
    "LIST_RAW_JSON = \"../transformed/all_json.json\"\n",
    "TRANSFORMED_DIR = \"../transformed/\"\n",
    "OUTPUT = \"output.txt\"\n",
    "GBTOUTPUT = \"gbt.txt\"\n",
    "TITLEOUTPUT = \"title.txt\"\n",
    "full_keys = [\"author\",\"title\",\"journal\",\"year\",\"DOI\",\"month\",\"citations(google scholar)\",\"abstract\",\"keywords\",\"reference_count\",\"ccfClass\",\"important\",\"references\"]\n",
    "full_keys_default = {\"author\":[],\"title\":\"\",\"journal\":\"\",\"year\":0,\"DOI\":\"\",\"month\":0,\"citations(google scholar)\":-1,\"abstract\":\"\",\"keywords\":[],\"reference_count\":0,\"ccfClass\":\"\",\"important\":None,\"references\":[]}\n",
    "# 常用函数定义\n",
    "# 保存至transform\n",
    "def save_tran_json(addr,jsonfile):\n",
    "    with open(TRANSFORMED_DIR + addr, 'w') as o:\n",
    "        o.write(json.dumps(jsonfile,ensure_ascii=False))\n",
    "        \n",
    "def save_tran_plain(addr,txtfile):\n",
    "    with open(TRANSFORMED_DIR + addr, 'w') as o:\n",
    "        o.write(txtfile)\n",
    "        \n",
    "def save_tran_lines(addr,txtfile):\n",
    "    with open(TRANSFORMED_DIR + addr, 'a+') as o:\n",
    "        for line in txtfile:\n",
    "            o.write(line+'\\n')    \n",
    "\n",
    "def save_tran_line(addr,txtfile):\n",
    "     with open(TRANSFORMED_DIR + addr, 'a+') as o:\n",
    "        o.write(txtfile+'\\n')\n",
    "\n",
    "# 从transformd中读取\n",
    "def read_tran_json(addr):\n",
    "    with open(TRANSFORMED_DIR + addr,encoding = 'utf-8') as f:\n",
    "        data = json.load(f)\n",
    "    return data\n",
    "    \n",
    "#  查询ccf等级\n",
    "def search_ccf(s):\n",
    "    ccf_all_addr = \"/Users/Halloween/Desktop/Study/复杂网络/lrcns/raw-data/ccf/ccf_all.csv\"\n",
    "\n",
    "    ccf_all = []\n",
    "    ccf_search_res = {}\n",
    "    with open(ccf_all_addr,encoding = 'utf-8') as f:\n",
    "        reader = csv.reader(f)\n",
    "        for line in reader:\n",
    "            ccf_all.append(line)\n",
    "    level = \"\"\n",
    "    field = \"\"\n",
    "    cORj = \"\"\n",
    "    col = -1\n",
    "#     print(ccf_all)\n",
    "    for line in reversed(ccf_all):\n",
    "        if col != 1 and col != 2 and col != -1:\n",
    "            col = -1\n",
    "            continue\n",
    "        if col == -1:\n",
    "            for word in line[1:3]:\n",
    "                if word == \"\":\n",
    "                    continue\n",
    "                if(string_similar(word,s)>0.9):\n",
    "                    col = line.index(word)\n",
    "                    ccf_search_res['ccf_search_res'] = word\n",
    "#                     print('\"'+word.strip('\"')+'\"'+'\"'+s.strip('\"')+'\"')\n",
    "#                     print(col)\n",
    "#                     print(line)\n",
    "                    break\n",
    "        else:\n",
    "            if len(line[0])>1 and line[0][1]=='、' and level == \"\":\n",
    "                level = line[0][2]\n",
    "#                 print(level)\n",
    "            if len(line[0])>10 and line[0][:2]==\"中国\" and field == \"\":\n",
    "                field = line[0][line[0].find(\"（\")+1:line[0].find(\"）\")]\n",
    "                cORj = line[0][line[0].find(\"术\")+1:line[0].find(\"（\")]\n",
    "#                 print(field)\n",
    "    ccf_search_res.update({\"level\":level,\"field\":field,\"type\":cORj})\n",
    "    return {\"level\":level,\"field\":field,\"type\":cORj}\n",
    "# 数据审查函数\n",
    "def inspect(to_inspect):\n",
    "    papers_arr = to_inspect\n",
    "    all_error = 0\n",
    "    for paper in papers_arr:\n",
    "        inspect = []\n",
    "        for key in full_keys:\n",
    "            if(key not in paper.keys() or type(paper[key]) != type(full_keys_default[key]) or paper[key] == full_keys_default[key]):\n",
    "                inspect.append(key + \" lost\")\n",
    "                continue\n",
    "            if(key == \"author\" or key == \"keywords\" or key == \"references\"):\n",
    "                if(type(paper[key]) != list or len(paper[key])==0):\n",
    "                    inspect.append(key + \" lost\")\n",
    "                    continue\n",
    "            if(key == \"year\"):\n",
    "                if(paper[key]<1900):\n",
    "                    inspect.append(key + \" error\")\n",
    "            if(key == \"month\"):\n",
    "                if(paper[key]<0 or paper[key] >12):\n",
    "                    inspect.append(key + \" error\")\n",
    "            if(key == \"citations(google scholar)\" or key == \"reference_count\"):\n",
    "                if(paper[key]<0):\n",
    "                    inspect.append(key + \" error\")\n",
    "            if(key == 'ccfClass'):\n",
    "                if(paper[key] not in ['A','B','C']):\n",
    "                    inspect.append(key + \" error\")\n",
    "            if(type(paper[key])==int):\n",
    "                if(paper[key]<0):\n",
    "                    inspect.append(key + \" less than 0\")\n",
    "                continue\n",
    "            if(type(paper[key])==float):\n",
    "                inspect.append(key + \" not int\")\n",
    "                continue\n",
    "        paper['inspect'] = list(inspect)\n",
    "        print(paper['title']+str(paper['inspect']))\n",
    "        all_error += len(paper['inspect'])\n",
    "    print(\">>>>SUMMARY ERRORs:\"+str(all_error)+\"<<<<<\")\n",
    "    return papers_arr"
   ]
  },
  {
   "cell_type": "code",
   "execution_count": 3,
   "metadata": {},
   "outputs": [],
   "source": [
    "# parse sth like DOI [DOI 10.****] or DOI DOI 10.***\n",
    "def parseDOI(doi):\n",
    "    return [d.strip(' ').strip('[').strip(']').strip('DOI ').lower() for d in doi.strip(' ').strip('[').strip(']').strip('DOI ').split(',')]\n",
    "\n",
    "def parseWoS(PATH,DEST):\n",
    "    # \"key\":[type,de]\n",
    "    FIELD_TYPE = {\"PT\":[str],\"AU\":[list,'\\n'],\"AF\":[list,'\\n'],\"BA\":[list,'\\n'],\"BF\":[list,'\\n'],\"CA\":[list,'\\n'],\"GP\":[list,'\\n'],\"BE\":[list,'\\n'],\"TI\":[str],\"SO\":[str],\"SE\":[str],\"BS\":[str],\"LA\":[str],\"DT\":[str],\"CT\":[str],\"CY\":[str],\"CL\":[str],\"SP\":[list,'\\n'],\"HO\":[str],\"DE\":[list,';'],\"ID\":[list,';'],\"AB\":[str],\"C1\":[str],\"RP\":[str],\"EM\":[list,';'],\"RI\":[list,';'],\"OI\":[list,';'],\"FU\":[list,';'],\"FX\":[str],\"CR\":[list,'\\n'],\"NR\":[int],\"TC\":[int],\"Z9\":[int],\"U1\":[int],\"U2\":[int],\"PU\":[list,','],\"PI\":[str],\"PA\":[str],\"SN\":[str],\"EI\":[str],\"BN\":[str],\"J9\":[str],\"JI\":[str],\"PD\":[str],\"PY\":[int],\"VL\":[str],\"IS\":[str],\"SI\":[str],\"PN\":[str],\"SU\":[str],\"MA\":[str],\"BP\":[str],\"EP\":[str],\"AR\":[str],\"DI\":[str],\"D2\":[str],\"EA\":[str],\"EY\":[str],\"PG\":[str],\"P2\":[str],\"WC\":[list,';'],\"SC\":[list,';'],\"GA\":[str],\"PM\":[str],\"UT\":[str],\"OA\":[str],\"HP\":[str],\"HC\":[str],\"DA\":[str]}\n",
    "    # 清空文件\n",
    "    open(DEST,'w').close()\n",
    "    wos_arr = []\n",
    "    addr_list = []\n",
    "    for addr in os.walk(PATH):\n",
    "        for fname in addr[2]:\n",
    "            if(fname[0]!='.' and fname.split('.')[-1]==\"txt\"):\n",
    "                addr_list.append(str(addr[0]+\"/\"+fname))\n",
    "\n",
    "                \n",
    "    for addr in addr_list:\n",
    "        print(addr)\n",
    "#         单文件最多500条，可以读入内存\n",
    "        with open(addr,encoding = 'utf-8-sig', errors = 'ignore') as f:\n",
    "            fstrs = f.readlines()  \n",
    "        tg_key = {}        \n",
    "        tag = \"\"\n",
    "        tag_type = [\"\"]\n",
    "        for line in fstrs:\n",
    "            if(line[:2] == \"EF\"):\n",
    "#                 结束本文件\n",
    "                break\n",
    "            elif(line[:2] == \"ER\"):\n",
    "#                 if('WC' in tg_key.keys()):\n",
    "#                     print(tg_key['WC'])\n",
    "#             存放记录\n",
    "                wos_arr.append(dict(tg_key))\n",
    "                tg_key = {}        \n",
    "                tag = \"\"\n",
    "                tag_type = [\"\"]\n",
    "            elif(line[:2] != \"  \" and line[:2] in FIELD_TYPE.keys()):\n",
    "#                 找到一个新filed\n",
    "                if(tag_type[0]==list):\n",
    "#                 上一个\n",
    "                    tg_key[tag] = [x.replace('\\n','').strip(' ') for x in list(tg_key[tag].strip('\\n').split(tag_type[1]))]\n",
    "#                     if(tag == 'WC'):\n",
    "#                         print(tg_key[tag])\n",
    "# #                         print(tg_key['WC'])\n",
    "                if 'CR' == tag:\n",
    "                    tg_key_CR = []\n",
    "                    for cr in tg_key['CR']:\n",
    "                        DOI_loc = cr.find(\"DOI\")\n",
    "                        if (DOI_loc != -1):\n",
    "                            ref = cr[:DOI_loc].strip(', ')\n",
    "                            DOI = parseDOI(cr[DOI_loc:])\n",
    "                            tg_key_CR.append({\"ref\":ref,\"DOI\":DOI})\n",
    "                        else:\n",
    "                            tg_key_CR.append({\"ref\": cr,\"DOI\":[\"\"]})\n",
    "                    tg_key['CR'] = tg_key_CR\n",
    "    \n",
    "                tag = line[:2]\n",
    "                tag_type = FIELD_TYPE[tag]\n",
    "                if(tag_type[0]==str):\n",
    "                    tg_key[tag] = \"\"\n",
    "                    if(tag==\"DI\"):\n",
    "                        tg_key[tag] += line[3:].lower().strip('\\n')\n",
    "                    else:\n",
    "                        tg_key[tag] += line[3:].strip('\\n')\n",
    "                elif(tag_type[0]==int):\n",
    "                    tg_key[tag] = int(line[3:].strip('\\n'))\n",
    "                elif(tag_type[0]==list):\n",
    "                    tg_key[tag] = \"\"\n",
    "                    tg_key[tag] += line[3:]\n",
    "                    if (tag_type[1] != '\\n'):\n",
    "                        tg_key[tag] = tg_key[tag].strip('\\n')\n",
    "            elif(line[:2] == \"  \"):\n",
    "#                 追加\n",
    "\n",
    "                if(tag_type[0]==str):\n",
    "                    tg_key[tag] += ' '\n",
    "                    tg_key[tag] += line[3:].strip('\\n')\n",
    "                elif(tag_type[0]==list):\n",
    "                    if (tag_type[1] != '\\n'):\n",
    "                        tg_key[tag] += ' '\n",
    "                        tg_key[tag] = tg_key[tag].strip('\\n')\n",
    "                    tg_key[tag] += line[3:]\n",
    "\n",
    "    print(len(wos_arr))\n",
    "    with open(DEST,'a+') as o:\n",
    "        o.write(json.dumps(wos_arr, ensure_ascii=False))\n",
    "        \n",
    "\n"
   ]
  },
  {
   "cell_type": "code",
   "execution_count": 88,
   "metadata": {},
   "outputs": [
    {
     "name": "stdout",
     "output_type": "stream",
     "text": "/Users/Halloween/Downloads/saved500/savedrecs (1).txt\n/Users/Halloween/Downloads/saved500/savedrecs (11).txt\n/Users/Halloween/Downloads/saved500/savedrecs (10).txt\n/Users/Halloween/Downloads/saved500/savedrecs (7).txt\n/Users/Halloween/Downloads/saved500/savedrecs (6).txt\n/Users/Halloween/Downloads/saved500/savedrecs .txt\n/Users/Halloween/Downloads/saved500/savedrecs (9).txt\n/Users/Halloween/Downloads/saved500/savedrecs (5).txt\n/Users/Halloween/Downloads/saved500/savedrecs (4).txt\n/Users/Halloween/Downloads/saved500/savedrecs (8).txt\n/Users/Halloween/Downloads/saved500/savedrecs (3).txt\n/Users/Halloween/Downloads/saved500/savedrecs (2).txt\n5600\n"
    }
   ],
   "source": [
    "parseWoS(\"/Users/Halloween/Downloads/saved500\",\"/Users/Halloween/Desktop/Study/复杂网络/lrcns/raw-data/transformed/wos2.txt\")"
   ]
  },
  {
   "cell_type": "code",
   "execution_count": 3,
   "metadata": {},
   "outputs": [
    {
     "name": "stdout",
     "output_type": "stream",
     "text": "5600\n"
    }
   ],
   "source": [
    "wos_arr = read_tran_json('wos2.txt')\n",
    "print(len(wos_arr))"
   ]
  },
  {
   "cell_type": "code",
   "execution_count": 4,
   "metadata": {},
   "outputs": [
    {
     "name": "stdout",
     "output_type": "stream",
     "text": "3735\n"
    }
   ],
   "source": [
    "# 编号\n",
    "# 所有paper 含有 title 以此编号，再将编号对应doi\n",
    "# 识别时，通过TI 识别paper\n",
    "ti_set = set([x['TI'] for x in wos_arr if 'TI' in x.keys()])\n",
    "ti_to_paper = {x['TI']:x for x in wos_arr if 'TI' in x.keys()}\n",
    "idx_to_ti = {i:t for i,t in enumerate(ti_set)}\n",
    "ti_to_idx = {t:i for i,t in enumerate(ti_set)}\n",
    "# DOI 根据title编号\n",
    "doi_set = set([x['DI'] for x in wos_arr if 'DI' in x.keys()])\n",
    "\n",
    "doi_to_paper = {x['DI']:x for x in wos_arr if 'DI' in x.keys()}\n",
    "idx_to_doi = {ti_to_idx[paper['TI']]:paper['DI'] for paper in wos_arr if 'DI' in paper.keys() }\n",
    "doi_to_idx = {paper['DI']:ti_to_idx[paper['TI']] for paper in wos_arr if 'DI' in paper.keys() }\n",
    "\n",
    "print(len(idx_to_doi))"
   ]
  },
  {
   "cell_type": "code",
   "execution_count": 5,
   "metadata": {},
   "outputs": [
    {
     "name": "stdout",
     "output_type": "stream",
     "text": "15309\n"
    }
   ],
   "source": [
    "# author 编号\n",
    "author_set = set([author for paper in wos_arr if 'AF' in paper.keys() for author in paper['AF'] ])\n",
    "idx_to_af = {i:a for i,a in enumerate(author_set)}\n",
    "af_to_idx = {a:i for i,a in enumerate(author_set)}\n",
    "print(len(idx_to_af))"
   ]
  },
  {
   "cell_type": "code",
   "execution_count": 6,
   "metadata": {},
   "outputs": [
    {
     "name": "stdout",
     "output_type": "stream",
     "text": "3743\n65000\n61257\n62237\n"
    }
   ],
   "source": [
    "# 只在引文ref rdoi (all doi) \n",
    "rdoi_set = {ref['DOI'][0] for paper in wos_arr if 'CR' in paper.keys() for ref in paper['CR'] if ref['DOI'][0] != \"\" and ref['DOI'][0] not in doi_set}\n",
    "idx_to_rdoi = {i+len(ti_set):t for i,t in enumerate(rdoi_set)}\n",
    "rdoi_to_idx = {t:i+len(ti_set) for i,t in enumerate(rdoi_set)}\n",
    "# 所有doi\n",
    "adoi_set = rdoi_set.union(doi_set)\n",
    "idx_to_adoi = dict()\n",
    "idx_to_adoi.update(idx_to_rdoi)\n",
    "idx_to_adoi.update(idx_to_doi)\n",
    "adoi_to_idx = dict()\n",
    "adoi_to_idx.update(doi_to_idx)\n",
    "adoi_to_idx.update(rdoi_to_idx)\n",
    "print(len(doi_set))\n",
    "print(len(adoi_set))\n",
    "print(len(rdoi_set))\n",
    "print(len({ref['DOI'][0] for paper in wos_arr if 'CR' in paper.keys() for ref in paper['CR'] if ref['DOI'][0] != \"\"}))"
   ]
  },
  {
   "cell_type": "code",
   "execution_count": 7,
   "metadata": {},
   "outputs": [
    {
     "name": "stdout",
     "output_type": "stream",
     "text": "(5541, 15309)\n"
    }
   ],
   "source": [
    "# 构造矩阵\n",
    "WA = np.zeros((len(idx_to_ti),len(idx_to_af)))\n",
    "for paper in wos_arr:\n",
    "    if 'AF' in paper.keys():\n",
    "        for author in paper['AF']:\n",
    "            WA[ti_to_idx[paper['TI']],af_to_idx[author]] = 1\n",
    "print(WA.shape)\n",
    "AW = WA.T            "
   ]
  },
  {
   "cell_type": "code",
   "execution_count": 8,
   "metadata": {},
   "outputs": [
    {
     "name": "stdout",
     "output_type": "stream",
     "text": "(5541, 66798)\n"
    }
   ],
   "source": [
    "# (文章数，文章数+非文章DOI的引用DOI)\n",
    "WR = np.zeros((len(idx_to_ti),len(idx_to_ti) + len(idx_to_rdoi)))\n",
    "for paper in wos_arr:\n",
    "    if 'CR' in paper.keys():\n",
    "        for ref in paper['CR']:\n",
    "            if ref['DOI'][0] != \"\" :\n",
    "                if ref['DOI'][0] in rdoi_to_idx.keys():\n",
    "                    WR[ti_to_idx[paper['TI']],rdoi_to_idx[ref['DOI'][0]]] = 1\n",
    "                elif ref['DOI'][0] in doi_to_idx.keys():\n",
    "                    WR[ti_to_idx[paper['TI']],doi_to_idx[ref['DOI'][0]]] = 1\n",
    "print(WR.shape)"
   ]
  },
  {
   "cell_type": "code",
   "execution_count": 9,
   "metadata": {},
   "outputs": [
    {
     "name": "stdout",
     "output_type": "stream",
     "text": "(5541, 5541)\n"
    }
   ],
   "source": [
    "WRW = np.dot(WR,WR.T)\n",
    "print(WRW.shape)"
   ]
  },
  {
   "cell_type": "code",
   "execution_count": 10,
   "metadata": {},
   "outputs": [
    {
     "name": "stdout",
     "output_type": "stream",
     "text": "(15309, 15309)\n"
    }
   ],
   "source": [
    "AWA = np.dot(AW,AW.T)\n",
    "print(AWA.shape)"
   ]
  },
  {
   "cell_type": "code",
   "execution_count": 32,
   "metadata": {},
   "outputs": [],
   "source": [
    "G = nx.from_numpy_matrix(WRW)"
   ]
  },
  {
   "cell_type": "code",
   "execution_count": 58,
   "metadata": {},
   "outputs": [],
   "source": [
    "GAWA = nx.from_numpy_matrix(AWA)"
   ]
  },
  {
   "cell_type": "code",
   "execution_count": 59,
   "metadata": {},
   "outputs": [
    {
     "name": "stdout",
     "output_type": "stream",
     "text": "15309\n46050\n"
    }
   ],
   "source": [
    "print(GAWA.number_of_nodes())\n",
    "print(GAWA.number_of_edges())"
   ]
  },
  {
   "cell_type": "code",
   "execution_count": 18,
   "metadata": {},
   "outputs": [
    {
     "name": "stdout",
     "output_type": "stream",
     "text": "5541\n622189\n"
    }
   ],
   "source": [
    "print(G.number_of_nodes())\n",
    "print(G.number_of_edges())"
   ]
  },
  {
   "cell_type": "code",
   "execution_count": 79,
   "metadata": {},
   "outputs": [
    {
     "name": "stdout",
     "output_type": "stream",
     "text": "Shi, Chuan\n"
    }
   ],
   "source": [
    "print(idx_to_af[13372])"
   ]
  },
  {
   "cell_type": "code",
   "execution_count": 19,
   "metadata": {},
   "outputs": [
    {
     "name": "stdout",
     "output_type": "stream",
     "text": "MAY 1\n2019\n"
    }
   ],
   "source": [
    "print(wos_arr[0]['PD'])\n",
    "print(wos_arr[0]['PY'])"
   ]
  },
  {
   "cell_type": "code",
   "execution_count": 29,
   "metadata": {},
   "outputs": [
    {
     "name": "stdout",
     "output_type": "stream",
     "text": "16\nCY2018\nPY2018\nCY2009\nPY2006\nCY2015\nPY2015\nCY2004\nPY2004\nCY2017\nPY2017\nCY2007\nPY2009\nCY2014\nPY2014\nCY2008\nPY2008\nCY2013\nPY2014\nCY2016\nPY2016\nCY2015\nPY2015\nCY2010\nPY2010\nCY2014\nPY2014\nCY2010\nPY2010\nCY2018\nPY2018\nCY2002\nPY2002\nCY2017\nPY2017\nCY2017\nPY2017\nCY2014\nPY2014\nCY2018\nPY2018\nCY2018\nPY2018\nCY2013\nPY2013\nCY2016\nPY2016\nCY2013\nPY2013\nCY2014\nPY2014\nCY2014\nPY2014\nCY2002\nPY2004\nCY2005\nPY2005\nCY2004\nPY2004\nCY2004\nPY2004\nCY2019\nPY2019\nCY2015\nPY2015\nCY2019\nPY2019\nCY2016\nPY2016\nCY2014\nPY2014\nCY2013\nPY2013\nCY2002\nPY2003\nCY2006\nPY2006\nCY2009\nPY2009\nCY2017\nPY2017\nCY2006\nPY2006\nCY2008\nPY2008\nCY2005\nPY2005\nCY2010\nPY2010\nCY2003\nPY2004\nCY2003\nPY2005\nCY2005\nPY2004\nCY2013\nPY2013\nCY2009\nPY2009\nCY2017\nPY2017\nCY2005\nPY2007\nCY2010\nPY2012\nCY2017\nPY2017\nCY2018\nPY2018\nCY2018\nPY2018\nCY2018\nPY2018\nCY2007\nPY2007\nCY2012\nPY2013\nCY2013\nPY2013\nCY2018\nPY2018\nCY2015\nPY2015\nCY2018\nPY2018\nCY2018\nPY2018\nCY2016\nPY2016\nCY2017\nPY2017\nCY2002\nPY2002\nCY2008\nPY2008\nCY2017\nPY2017\nCY2016\nPY2016\nCY2015\nPY2015\nCY2006\nPY2006\nCY2018\nPY2018\nCY2015\nPY2015\nCY2017\nPY2017\nCY2012\nPY2012\nCY2010\nPY2010\nCY2008\nPY2008\nCY2006\nPY2006\nCY2002\nPY2004\nCY2019\nPY2019\nCY2015\nPY2015\nCY2010\nPY2010\nCY2016\nPY2016\nCY2007\nPY2007\nCY2019\nPY2019\nCY1999\nPY2001\nCY2013\nPY2013\nCY2008\nPY2009\nCY2006\nPY2006\nCY2004\nPY2004\nCY2018\nPY2019\nCY2016\nPY2016\nCY2019\nPY2019\nCY2018\nPY2018\nCY2017\nPY2017\nCY2013\nPY2015\nCY2017\nPY2017\nCY2015\nPY2015\nCY2017\nPY2017\nCY2006\nPY2006\nCY2012\nPY2012\nCY2005\nPY2005\nCY2010\nPY2010\nCY2012\nPY2012\nCY2018\nPY2018\nCY2008\nPY2008\nCY2007\nPY2007\nCY1998\nPY1998\nCY2017\nPY2017\nCY2005\nPY2005\nCY2018\nPY2018\nCY2002\nPY2003\nCY2013\nPY2013\nCY2009\nPY2009\nCY2008\nPY2008\nCY2018\nPY2018\nCY2007\nPY2007\nCY2006\nPY2006\nCY2010\nPY2010\nCY2012\nPY2012\nCY2017\nPY2017\nCY2017\nPY2017\nCY2017\nPY2018\nCY2000\nPY2004\nCY2016\nPY2016\nCY2007\nPY2008\nCY2013\nPY2013\nCY2006\nPY2006\nCY2018\nPY2018\nCY2005\nPY2005\nCY2017\nPY2017\nCY2018\nPY2018\nCY2018\nPY2015\nCY2011\nPY2011\nCY2015\nPY2015\nCY2010\nPY2011\nCY2015\nPY2015\nCY2007\nPY2007\nCY2014\nPY2015\nCY2017\nPY2017\nCY2012\nPY2012\nCY2016\nPY2016\nCY2018\nPY2018\nCY2013\nPY2014\nCY2014\nPY2016\nCY2015\nPY2015\nCY2015\nPY2015\nCY2013\nPY2014\nCY2015\nPY2015\nCY2013\nPY2013\nCY2016\nPY2016\nCY2017\nPY2017\nCY2015\nPY2015\nCY2014\nPY2014\nCY2018\nPY2018\nCY2016\nPY2016\nCY2019\nPY2019\nCY2017\nPY2017\nCY2018\nPY2018\nCY2015\nPY2015\nCY2018\nPY2018\nCY2016\nPY2016\nCY2014\nPY2014\nCY2017\nPY2017\nCY2016\nPY2016\nCY2018\nPY2018\nCY2017\nPY2018\nCY2007\nPY2007\nCY2016\nPY2016\nCY2010\nPY2010\nCY2013\nPY2013\nCY2011\nPY2011\nCY2018\nPY2018\nCY2018\nPY2018\nCY2014\nPY2014\nCY2016\nPY2016\nCY2013\nPY2013\nCY2019\nPY2019\nCY2011\nPY2011\nCY2015\nPY2015\nCY2017\nPY2018\nCY2015\nPY2015\nCY2016\nPY2016\nCY2017\nPY2017\nCY2013\nPY2013\nCY2011\nPY2011\nCY2018\nPY2018\nCY2018\nPY2018\nCY2015\nPY2016\nCY2012\nPY2012\nCY2014\nPY2014\nCY2013\nPY2013\nCY2017\nPY2017\nCY2019\nPY2019\nCY2016\nPY2016\nCY2014\nPY2014\nCY2017\nPY2017\nCY2017\nPY2017\nCY2012\nPY2012\nCY2007\nPY2007\nCY2012\nPY2012\nCY2017\nPY2017\nCY2014\nPY2015\nCY2015\nPY2015\nCY2017\nPY2017\nCY2011\nPY2011\nCY2014\nPY2014\nCY2017\nPY2017\nCY2015\nPY2015\nCY2016\nPY2016\nCY2018\nPY2015\nCY2018\nPY2018\nCY2016\nPY2016\nCY2015\nPY2015\nCY2014\nPY2014\nCY2016\nPY2016\nCY2018\nPY2018\nCY2010\nPY2010\nCY2015\nPY2015\nCY2015\nPY2015\nCY2014\nPY2014\nCY2014\nPY2014\nCY2015\nPY2015\nCY2017\nPY2017\nCY2014\nPY2015\nCY2018\nPY2018\nCY2016\nPY2016\nCY2015\nPY2015\nCY2009\nPY2009\nCY2016\nPY2016\nCY2015\nPY2015\nCY2018\nPY2018\nCY2014\nPY2014\nCY2013\nPY2013\nCY2012\nPY2012\nCY2018\nPY2018\nCY2017\nPY2017\nCY2017\nPY2017\nCY2015\nPY2015\nCY2009\nPY2009\nCY2016\nPY2016\nCY2014\nPY2014\nCY2016\nPY2016\nCY2017\nPY2017\nCY2016\nPY2016\nCY2018\nPY2018\nCY2017\nPY2017\nCY2019\nPY2019\nCY2014\nPY2014\nCY2016\nPY2016\nCY2018\nPY2018\nCY2019\nPY2019\nCY2019\nPY2019\nCY2018\nPY2018\nCY2011\nPY2013\nCY2009\nPY2009\nCY2016\nPY2016\nCY2011\nPY2011\nCY2012\nPY2012\nCY2017\nPY2017\nCY2014\nPY2014\nCY2015\nPY2015\nCY2016\nPY2016\nCY2014\nPY2014\nCY2012\nPY2012\nCY2017\nPY2017\nCY2013\nPY2013\nCY2018\nPY2018\nCY2018\nPY2018\nCY2015\nPY2015\nCY2016\nPY2016\nCY2015\nPY2015\nCY2014\nPY2014\nCY2012\nPY2012\nCY2012\nPY2012\nCY2011\nPY2011\nCY2017\nPY2017\nCY2013\nPY2013\nCY2014\nPY2014\nCY2017\nPY2017\nCY2018\nPY2018\nCY2015\nPY2016\nCY2013\nPY2013\nCY2017\nPY2017\nCY2017\nPY2017\nCY2016\nPY2016\nCY2019\nPY2019\nCY2017\nPY2017\nCY2009\nPY2009\nCY2018\nPY2014\nCY2014\nPY2014\nCY2016\nPY2016\nCY2013\nPY2013\nCY2017\nPY2017\nCY2014\nPY2014\nCY2015\nPY2015\nCY2014\nPY2014\nCY2013\nPY2013\nCY2013\nPY2014\nCY2018\nPY2018\nCY2016\nPY2016\nCY2016\nPY2016\nCY2014\nPY2014\nCY2019\nPY2019\nCY2015\nPY2018\nCY2017\nPY2017\nCY2011\nPY2011\nCY2013\nPY2013\nCY2017\nPY2017\nCY2005\nPY2005\nCY2018\nPY2018\nCY2015\nPY2015\nCY2018\nPY2018\nCY2013\nPY2013\nCY2015\nPY2015\nCY2014\nPY2014\nCY2011\nPY2011\nCY2017\nPY2018\nCY2018\nPY2018\nCY2017\nPY2017\nCY2015\nPY2015\nCY2016\nPY2016\nCY2016\nPY2016\nCY2016\nPY2016\nCY2016\nPY2016\nCY2013\nPY2013\nCY2017\nPY2017\nCY2012\nPY2012\nCY2018\nPY2018\nCY2011\nPY2011\nCY2009\nPY2009\nCY2015\nPY2015\nCY2008\nPY2010\nCY2017\nPY2017\nCY2016\nPY2016\nCY2016\nPY2016\nCY2013\nPY2013\nCY2014\nPY2014\nCY2018\nPY2018\nCY2017\nPY2017\nCY2015\nPY2015\nCY2014\nPY2014\nCY2013\nPY2013\nCY2017\nPY2017\nCY2012\nPY2012\nCY2014\nPY2014\nCY2014\nPY2014\nCY2013\nPY2013\nCY2017\nPY2017\nCY2010\nPY2010\nCY2015\nPY2015\nCY2017\nPY2017\nCY2014\nPY2014\nCY2016\nPY2016\nCY2017\nPY2017\nCY2015\nPY2015\nCY2016\nPY2016\nCY2005\nPY2005\nCY2012\nPY2012\nCY2013\nPY2013\nCY2016\nPY2016\nCY2017\nPY2017\nCY2014\nPY2014\nCY2018\nPY2018\nCY2015\nPY2015\nCY2017\nPY2017\nCY2013\nPY2013\nCY2016\nPY2016\nCY2017\nPY2017\nCY2014\nPY2014\nCY2018\nPY2018\nCY2014\nPY2014\nCY2015\nPY2015\nCY2013\nPY2013\nCY2014\nPY2015\nCY2015\nPY2015\nCY2009\nPY2009\nCY2009\nPY2010\nCY2014\nPY2014\nCY2012\nPY2012\nCY2017\nPY2017\nCY2014\nPY2014\nCY2015\nPY2016\nCY2018\nPY2018\nCY2016\nPY2016\nCY2018\nPY2018\nCY2019\nPY2019\nCY2013\nPY2013\nCY2013\nPY2013\nCY2018\nPY2018\nCY2016\nPY2016\nCY2017\nPY2017\nCY2017\nPY2017\nCY2012\nPY2012\nCY2017\nPY2017\nCY2017\nPY2017\nCY2016\nPY2016\nCY2011\nPY2011\nCY2018\nPY2018\nCY2011\nPY2011\nCY2013\nPY2014\nCY2011\nPY2011\nCY2015\nPY2015\nCY2009\nPY2009\nCY2014\nPY2014\nCY2012\nPY2012\nCY2013\nPY2013\nCY2013\nPY2013\nCY2016\nPY2017\nCY2009\nPY2009\nCY2016\nPY2016\nCY2018\nPY2018\nCY2015\nPY2015\nCY2018\nPY2018\nCY2014\nPY2014\nCY2015\nPY2015\nCY2012\nPY2012\nCY2017\nPY2017\nCY2016\nPY2016\nCY2014\nPY2013\nCY2012\nPY2012\nCY2013\nPY2015\nCY2014\nPY2014\nCY2013\nPY2013\nCY2015\nPY2015\nCY2018\nPY2018\nCY2016\nPY2016\nCY2011\nPY2011\nCY2011\nPY2011\nCY2011\nPY2010\nCY2015\nPY2015\nCY2018\nPY2018\nCY2018\nPY2018\nCY2014\nPY2014\nCY2013\nPY2013\nCY2017\nPY2019\nCY2019\nPY2019\nCY2014\nPY2014\nCY2015\nPY2015\nCY2015\nPY2015\nCY2013\nPY2013\nCY2014\nPY2014\nCY2016\nPY2016\nCY2017\nPY2017\nCY2018\nPY2018\nCY2015\nPY2015\nCY2017\nPY2017\nCY2012\nPY2012\nCY2013\nPY2013\nCY2018\nPY2018\nCY2016\nPY2016\nCY2014\nPY2014\nCY2013\nPY2013\nCY2018\nPY2018\nCY2016\nPY2016\nCY2016\nPY2016\nCY2016\nPY2016\nCY2017\nPY2017\nCY2015\nPY2015\nCY2018\nPY2018\nCY2012\nPY2012\nCY2014\nPY2014\nCY2016\nPY2016\nCY2011\nPY2012\nCY2010\nPY2010\nCY2016\nPY2016\nCY2014\nPY2014\nCY2012\nPY2012\nCY2012\nPY2012\nCY2015\nPY2015\nCY2013\nPY2013\nCY2015\nPY2015\nCY2015\nPY2015\nCY2016\nPY2018\nCY2017\nPY2017\nCY2018\nPY2018\nCY2015\nPY2015\nCY2015\nPY2015\nCY2016\nPY2016\nCY2014\nPY2014\nCY2015\nPY2015\nCY2014\nPY2014\nCY2017\nPY2017\nCY2017\nPY2017\nCY2018\nPY2018\nCY2017\nPY2017\nCY2018\nPY2018\nCY2015\nPY2015\nCY2013\nPY2013\nCY2013\nPY2013\nCY2014\nPY2014\nCY2011\nPY2011\nCY2014\nPY2014\nCY2010\nPY2011\nCY2017\nPY2018\nCY2016\nPY2016\nCY2014\nPY2014\nCY2014\nPY2014\nCY2015\nPY2015\nCY2009\nPY2009\nCY2017\nPY2017\nCY2017\nPY2017\nCY2014\nPY2014\nCY2016\nPY2016\nCY2017\nPY2017\nCY2011\nPY2011\nCY2015\nPY2015\nCY2016\nPY2016\nCY2017\nPY2018\nCY2018\nPY2018\nCY2017\nPY2017\nCY2017\nPY2017\nCY2013\nPY2013\nCY2012\nPY2012\nCY2019\nPY2019\nCY2014\nPY2014\nCY2010\nPY2010\nCY2009\nPY2009\nCY2014\nPY2014\nCY2015\nPY2015\nCY2015\nPY2015\nCY2016\nPY2016\nCY2015\nPY2016\nCY2016\nPY2016\nCY2017\nPY2017\nCY2014\nPY2014\nCY2017\nPY2017\nCY2015\nPY2015\nCY2016\nPY2016\nCY2012\nPY2012\nCY2013\nPY2013\nCY2017\nPY2017\nCY2014\nPY2014\nCY2015\nPY2015\nCY2016\nPY2016\nCY2017\nPY2017\nCY2017\nPY2017\nCY2009\nPY2009\nCY2014\nPY2014\nCY2019\nPY2019\nCY2017\nPY2017\nCY2018\nPY2018\nCY2016\nPY2016\nCY2017\nPY2017\nCY2017\nPY2017\nCY2016\nPY2016\nCY2016\nPY2016\nCY2007\nPY2008\nCY2014\nPY2017\nCY2015\nPY2015\nCY2016\nPY2016\nCY2014\nPY2014\nCY2007\nPY2007\nCY2015\nPY2015\nCY2008\nPY2008\nCY2013\nPY2013\nCY2013\nPY2013\nCY2016\nPY2016\nCY2015\nPY2015\nCY2013\nPY2013\nCY2017\nPY2017\nCY2011\nPY2011\nCY2016\nPY2016\nCY2012\nPY2012\nCY2014\nPY2014\nCY2016\nPY2016\nCY2018\nPY2018\nCY2003\nPY2007\nCY2015\nPY2015\nCY2013\nPY2013\nCY2013\nPY2013\nCY2014\nPY2014\nCY2016\nPY2016\nCY2012\nPY2012\nCY2017\nPY2017\nCY2019\nPY2019\nCY2012\nPY2013\nCY2017\nPY2017\nCY2017\nPY2017\nCY2012\nPY2012\nCY2014\nPY2014\nCY2014\nPY2014\nCY2014\nPY2014\nCY2012\nPY2012\nCY1998\nPY1999\nCY2018\nPY2018\nCY2014\nPY2014\nCY2011\nPY2011\nCY2018\nPY2018\nCY2014\nPY2014\nCY2016\nPY2016\nCY2014\nPY2014\nCY2013\nPY2014\nCY2013\nPY2013\nCY2016\nPY2016\nCY2018\nPY2018\nCY2018\nPY2018\nCY2012\nPY2012\nCY2015\nPY2015\nCY2016\nPY2016\nCY2019\nPY2019\nCY2014\nPY2014\nCY2013\nPY2013\nCY2011\nPY2011\nCY2013\nPY2013\nCY2018\nPY2018\nCY2017\nPY2017\nCY2017\nPY2017\nCY2012\nPY2012\nCY2007\nPY2009\nCY2011\nPY2011\nCY2014\nPY2014\nCY2016\nPY2016\nCY2016\nPY2016\nCY2018\nPY2018\nCY2017\nPY2017\nCY2015\nPY2015\nCY2000\nPY2000\nCY2017\nPY2017\nCY2015\nPY2015\nCY2018\nPY2018\nCY2017\nPY2017\nCY2015\nPY2015\nCY2012\nPY2012\nCY2012\nPY2012\nCY2008\nPY2008\nCY2016\nPY2018\nCY2001\nPY2002\nCY2014\nPY2014\nCY2018\nPY2018\nCY2018\nPY2018\nCY2006\nPY2007\nCY2014\nPY2014\nCY2018\nPY2018\nCY2002\nPY2005\nCY2011\nPY2011\nCY2009\nPY2009\nCY2019\nPY2019\nCY2010\nPY2010\nCY2018\nPY2018\nCY2010\nPY2010\nCY2019\nPY2019\nCY2016\nPY2016\nCY2009\nPY2009\nCY2007\nPY2007\nCY2017\nPY2017\nCY2017\nPY2017\nCY2016\nPY2016\nCY2017\nPY2017\nCY2018\nPY2018\nCY2015\nPY2015\nCY2012\nPY2012\nCY2017\nPY2017\nCY2016\nPY2016\nCY2017\nPY2017\nCY2017\nPY2017\nCY2015\nPY2015\nCY2003\nPY2004\nCY2016\nPY2017\nCY2006\nPY2006\nCY2018\nPY2018\nCY2016\nPY2016\nCY1996\nPY2000\nCY2010\nPY2010\nCY2010\nPY2010\nCY2016\nPY2016\nCY2013\nPY2013\nCY2010\nPY2010\nCY2019\nPY2019\nCY2009\nPY2009\nCY2019\nPY2019\nCY2009\nPY2009\nCY2006\nPY2006\nCY2007\nPY2007\nCY2017\nPY2017\nCY2007\nPY2007\nCY2006\nPY2007\nCY2014\nPY2014\nCY2016\nPY2016\nCY2018\nPY2018\nCY2000\nPY2002\nCY2017\nPY2017\nCY2006\nPY2006\nCY2011\nPY2011\nCY2016\nPY2016\nCY2009\nPY2009\nCY2017\nPY2017\nCY2016\nPY2016\nCY2011\nPY2011\nCY2019\nPY2019\nCY2016\nPY2016\nCY2009\nPY2009\nCY2011\nPY2011\nCY2018\nPY2019\nCY2011\nPY2013\nCY2016\nPY2016\nCY2018\nPY2018\nCY2010\nPY2010\nCY2007\nPY2007\nCY2009\nPY2009\nCY2013\nPY2013\nCY2007\nPY2007\nCY2014\nPY2014\nCY2006\nPY2006\nCY2015\nPY2015\nCY2018\nPY2018\nCY2014\nPY2014\nCY2018\nPY2018\nCY2017\nPY2017\nCY2002\nPY2003\nCY2011\nPY2011\nCY2006\nPY2006\nCY2016\nPY2016\nCY2011\nPY2011\nCY2018\nPY2018\nCY2006\nPY2006\nCY2007\nPY2008\nCY2018\nPY2019\nCY2006\nPY2006\nCY2015\nPY2015\nCY2010\nPY2011\nCY2014\nPY2015\nCY2017\nPY2017\nCY2007\nPY2007\nCY2011\nPY2011\nCY2009\nPY2009\nCY2018\nPY2018\nCY2008\nPY2008\nCY2015\nPY2015\nCY2016\nPY2016\nCY2016\nPY2017\nCY2008\nPY2008\nCY2017\nPY2019\nCY2006\nPY2007\nCY2010\nPY2010\nCY2017\nPY2017\nCY2005\nPY2005\nCY2017\nPY2017\nCY2006\nPY2006\nCY2016\nPY2016\nCY2000\nPY2001\nCY2016\nPY2016\nCY2018\nPY2018\nCY2008\nPY2008\nCY2017\nPY2019\nCY2006\nPY2006\nCY2008\nPY2008\nCY2018\nPY2019\nCY2012\nPY2012\nCY2006\nPY2006\nCY2006\nPY2006\nCY2010\nPY2010\nCY2006\nPY2007\nCY2007\nPY2007\nCY2005\nPY2005\nCY2010\nPY2010\nCY2018\nPY2018\nCY2016\nPY2016\nCY2005\nPY2005\nCY2013\nPY2013\nCY2010\nPY2010\nCY2019\nPY2019\nCY2005\nPY2005\nCY2004\nPY2004\nCY2016\nPY2016\nCY2006\nPY2007\nCY1999\nPY2000\nCY2018\nPY2018\nCY2016\nPY2016\nCY2018\nPY2018\nCY2018\nPY2018\nCY2017\nPY2017\nCY2017\nPY2017\nCY2010\nPY2010\nCY2004\nPY2004\nCY2008\nPY2008\nCY2017\nPY2017\nCY2010\nPY2010\nCY2009\nPY2009\nCY2015\nPY2015\nCY2005\nPY2005\nCY2017\nPY2017\nCY2014\nPY2014\nCY2015\nPY2015\nCY2014\nPY2014\nCY2008\nPY2008\nCY2016\nPY2016\nCY2011\nPY2011\nCY2018\nPY2018\nCY2018\nPY2018\nCY2004\nPY2005\nCY2009\nPY2009\nCY2016\nPY2016\nCY2005\nPY2005\nCY2017\nPY2017\nCY2009\nPY2009\nCY2009\nPY2009\nCY2006\nPY2006\nCY2014\nPY2014\nCY2015\nPY2015\nCY2004\nPY2004\nCY2018\nPY2018\nCY2016\nPY2016\nCY2016\nPY2016\nCY2015\nPY2015\nCY2004\nPY2004\nCY2018\nPY2018\nCY2017\nPY2017\nCY2011\nPY2011\nCY2016\nPY2016\nCY2008\nPY2008\nCY2006\nPY2006\nCY2016\nPY2016\nCY2013\nPY2014\nCY2008\nPY2008\nCY2018\nPY2018\nCY2014\nPY2014\nCY2008\nPY2008\nCY2014\nPY2016\nCY2013\nPY2013\nCY2016\nPY2016\nCY2018\nPY2018\nCY2007\nPY2007\nCY2014\nPY2014\nCY2018\nPY2018\nCY2011\nPY2011\nCY2016\nPY2016\nCY2013\nPY2013\nCY2015\nPY2015\nCY2017\nPY2017\nCY2004\nPY2005\nCY2017\nPY2017\nCY2013\nPY2013\nCY2014\nPY2014\nCY2015\nPY2016\nCY2013\nPY2013\nCY2016\nPY2016\nCY2017\nPY2017\nCY2004\nPY2004\nCY2016\nPY2016\nCY2017\nPY2017\nCY2015\nPY2015\nCY2015\nPY2015\nCY2013\nPY2013\nCY2017\nPY2017\nCY2018\nPY2018\nCY2006\nPY2006\nCY2007\nPY2007\nCY2006\nPY2007\nCY2009\nPY2009\nCY2014\nPY2014\nCY2018\nPY2018\nCY2016\nPY2016\nCY2011\nPY2011\nCY2016\nPY2016\nCY2008\nPY2009\nCY2017\nPY2017\nCY2018\nPY2018\nCY2011\nPY2011\nCY2013\nPY2013\nCY2018\nPY2018\nCY2015\nPY2015\nCY2009\nPY2009\nCY2008\nPY2008\nCY2018\nPY2018\nCY2009\nPY2009\nCY2009\nPY2009\nCY2015\nPY2015\nCY2012\nPY2013\nCY2013\nPY2013\nCY2016\nPY2016\nCY2004\nPY2004\nCY2013\nPY2013\nCY2018\nPY2019\nCY2008\nPY2008\nCY2014\nPY2014\nCY2008\nPY2008\nCY2009\nPY2009\nCY2017\nPY2017\nCY2017\nPY2018\nCY2019\nPY2019\nCY2010\nPY2010\nCY2009\nPY2009\nCY2018\nPY2018\nCY2017\nPY2017\nCY2006\nPY2006\nCY2016\nPY2016\nCY2019\nPY2019\nCY2018\nPY2018\nCY2018\nPY2018\nCY2018\nPY2018\nCY2013\nPY2013\nCY2012\nPY2012\nCY2006\nPY2006\nCY2013\nPY2013\nCY2019\nPY2019\nCY2009\nPY2009\nCY2014\nPY2014\nCY2006\nPY2006\nCY2018\nPY2018\nCY2016\nPY2016\nCY2011\nPY2011\nCY2014\nPY2014\nCY2010\nPY2010\nCY2008\nPY2008\nCY2012\nPY2012\nCY2011\nPY2011\nCY2014\nPY2014\nCY2018\nPY2018\nCY2008\nPY2008\nCY2006\nPY2006\nCY2015\nPY2015\nCY2011\nPY2011\nCY2019\nPY2019\nCY2015\nPY2015\nCY2007\nPY2007\nCY2006\nPY2006\nCY2014\nPY2014\nCY2009\nPY2009\nCY2016\nPY2016\nCY2003\nPY2005\nCY2018\nPY2018\nCY2017\nPY2017\nCY2015\nPY2015\nCY2008\nPY2009\nCY2018\nPY2018\nCY2018\nPY2018\nCY2015\nPY2015\nCY2009\nPY2009\nCY2006\nPY2006\nCY2007\nPY2007\nCY2018\nPY2018\nCY2018\nPY2018\nCY2005\nPY2005\nCY2016\nPY2016\nCY2010\nPY2011\nCY2016\nPY2016\nCY2009\nPY2012\nCY2009\nPY2009\nCY2010\nPY2010\nCY2008\nPY2008\nCY2008\nPY2008\nCY2005\nPY2007\nCY2014\nPY2014\nCY2015\nPY2015\nCY2015\nPY2015\nCY2019\nPY2019\nCY2018\nPY2018\nCY2017\nPY2017\nCY2005\nPY2005\nCY2018\nPY2018\nCY2012\nPY2012\nCY2016\nPY2017\nCY2017\nPY2017\nCY2017\nPY2017\nCY2013\nPY2013\nCY2012\nPY2012\nCY2005\nPY2005\nCY2015\nPY2015\nCY2008\nPY2008\nCY2013\nPY2013\nCY2004\nPY2004\nCY2009\nPY2009\nCY2016\nPY2016\nCY2019\nPY2019\nCY2005\nPY2009\nCY2018\nPY2018\nCY2009\nPY2009\nCY2004\nPY2004\nCY2010\nPY2010\nCY2013\nPY2013\nCY2015\nPY2015\nCY2002\nPY2002\nCY2019\nPY2019\nCY2006\nPY2009\nCY2013\nPY2013\nCY2005\nPY2006\nCY2017\nPY2017\nCY2008\nPY2008\nCY2016\nPY2016\nCY2019\nPY2019\nCY2008\nPY2008\nCY2008\nPY2008\nCY2012\nPY2012\nCY2015\nPY2015\nCY2012\nPY2012\nCY2016\nPY2017\nCY2019\nPY2019\nCY2005\nPY2005\nCY2019\nPY2019\nCY2016\nPY2016\nCY2006\nPY2006\nCY2009\nPY2009\nCY2012\nPY2012\nCY2018\nPY2018\nCY2017\nPY2017\nCY2019\nPY2019\nCY2010\nPY2010\nCY2013\nPY2013\nCY2018\nPY2018\nCY2018\nPY2018\nCY2011\nPY2011\nCY2009\nPY2009\nCY2010\nPY2010\nCY2018\nPY2018\nCY2018\nPY2018\nCY2018\nPY2018\nCY2014\nPY2014\nCY2016\nPY2016\nCY2015\nPY2015\nCY2004\nPY2004\nCY2017\nPY2017\nCY2017\nPY2017\nCY2017\nPY2017\nCY2014\nPY2015\nCY2015\nPY2015\nCY2015\nPY2016\nCY2015\nPY2015\nCY2017\nPY2017\nCY2008\nPY2008\nCY2019\nPY2019\nCY2009\nPY2009\nCY2019\nPY2019\nCY2018\nPY2018\nCY2017\nPY2017\nCY2008\nPY2008\nCY2005\nPY2005\nCY2009\nPY2009\nCY2005\nPY2005\nCY2015\nPY2015\nCY2011\nPY2011\nCY2019\nPY2019\nCY2016\nPY2016\nCY2018\nPY2018\nCY2010\nPY2010\nCY2019\nPY2019\nCY2018\nPY2018\nCY2017\nPY2017\nCY2017\nPY2017\nCY2017\nPY2017\nCY2001\nPY2001\nCY2007\nPY2007\nCY2014\nPY2014\nCY2018\nPY2018\nCY2006\nPY2006\nCY2017\nPY2017\nCY2005\nPY2005\nCY2017\nPY2017\nCY2007\nPY2007\nCY2015\nPY2015\nCY2015\nPY2015\nCY2014\nPY2014\nCY2016\nPY2016\nCY2014\nPY2014\nCY2018\nPY2018\nCY2008\nPY2008\nCY2014\nPY2015\nCY2015\nPY2015\nCY2017\nPY2017\nCY2009\nPY2009\nCY2018\nPY2018\nCY2007\nPY2007\nCY2013\nPY2013\nCY2011\nPY2011\nCY2005\nPY2008\nCY2010\nPY2010\nCY2005\nPY2005\nCY2016\nPY2016\nCY2017\nPY2017\nCY2015\nPY2015\nCY2010\nPY2010\nCY2010\nPY2010\nCY2004\nPY2005\nCY2018\nPY2018\nCY2015\nPY2015\nCY2005\nPY2006\nCY2019\nPY2019\nCY2017\nPY2017\nCY2015\nPY2015\nCY2013\nPY2013\nCY2016\nPY2016\nCY2010\nPY2010\nCY2006\nPY2006\nCY2005\nPY2005\nCY2012\nPY2012\nCY2008\nPY2008\nCY2018\nPY2019\nCY2004\nPY2004\nCY2011\nPY2011\nCY2014\nPY2014\nCY2008\nPY2008\nCY2019\nPY2019\nCY2005\nPY2005\nCY2016\nPY2016\nCY2007\nPY2007\nCY2011\nPY2011\nCY2017\nPY2017\nCY2011\nPY2011\nCY2010\nPY2010\nCY2005\nPY2005\nCY2016\nPY2016\nCY2004\nPY2004\nCY2017\nPY2017\nCY2009\nPY2008\nCY2007\nPY2007\nCY2009\nPY2009\nCY2019\nPY2019\nCY2017\nPY2017\nCY2017\nPY2017\nCY2009\nPY2011\nCY2005\nPY2005\nCY2017\nPY2017\nCY2018\nPY2018\nCY2018\nPY2018\nCY2007\nPY2007\nCY2018\nPY2018\nCY2019\nPY2019\nCY2015\nPY2015\nCY2017\nPY2017\nCY2015\nPY2015\nCY2018\nPY2018\nCY2018\nPY2018\nCY2018\nPY2018\nCY2017\nPY2017\nCY2017\nPY2017\nCY2018\nPY2018\nCY2010\nPY2010\nCY2008\nPY2008\nCY2018\nPY2018\nCY2018\nPY2018\nCY2015\nPY2015\nCY2019\nPY2019\nCY2017\nPY2017\nCY2008\nPY2008\nCY2009\nPY2009\nCY2009\nPY2010\nCY2019\nPY2019\nCY2004\nPY2004\nCY2014\nPY2014\nCY2013\nPY2013\nCY2018\nPY2018\nCY2005\nPY2005\nCY2016\nPY2016\nCY2013\nPY2013\nCY2019\nPY2019\nCY2017\nPY2017\nCY2009\nPY2009\nCY2011\nPY2011\nCY2015\nPY2015\nCY2015\nPY2015\nCY2014\nPY2014\nCY2017\nPY2017\nCY2013\nPY2013\nCY2019\nPY2019\nCY2010\nPY2010\nCY2012\nPY2012\nCY2012\nPY2012\nCY2014\nPY2014\nCY2004\nPY2004\nCY2016\nPY2016\nCY2004\nPY2004\nCY2004\nPY2004\nCY2013\nPY2013\nCY2013\nPY2013\nCY2017\nPY2017\nCY2015\nPY2015\nCY2018\nPY2018\nCY2003\nPY2004\nCY2014\nPY2014\nCY2018\nPY2018\nCY2010\nPY2010\nCY2013\nPY2014\nCY2018\nPY2018\nCY2018\nPY2018\nCY2019\nPY2019\nCY2008\nPY2008\nCY2012\nPY2012\nCY2019\nPY2019\nCY2017\nPY2017\nCY2015\nPY2015\nCY2014\nPY2014\nCY2007\nPY2007\nCY2014\nPY2014\nCY2016\nPY2016\nCY2013\nPY2013\nCY2009\nPY2009\nCY2017\nPY2017\nCY2012\nPY2012\nCY2018\nPY2018\nCY2010\nPY2010\nCY2018\nPY2018\nCY2013\nPY2013\nCY2006\nPY2006\nCY2002\nPY2004\nCY2017\nPY2017\nCY2017\nPY2017\nCY2009\nPY2009\nCY2014\nPY2014\nCY2014\nPY2014\nCY2009\nPY2009\nCY2018\nPY2018\nCY2015\nPY2015\nCY2009\nPY2009\nCY2018\nPY2018\nCY2017\nPY2017\nCY2010\nPY2010\nCY2014\nPY2016\nCY2017\nPY2017\nCY2016\nPY2016\nCY2016\nPY2016\nCY2019\nPY2019\nCY2017\nPY2017\nCY2009\nPY2009\nCY2017\nPY2017\nCY2014\nPY2015\nCY2014\nPY2014\nCY2015\nPY2015\nCY2017\nPY2017\nCY2012\nPY2012\nCY2019\nPY2019\nCY2017\nPY2017\nCY2017\nPY2017\nCY2013\nPY2013\nCY2015\nPY2015\nCY2014\nPY2014\nCY2012\nPY2012\nCY2012\nPY2012\nCY2004\nPY2004\nCY2017\nPY2018\nCY2013\nPY2014\nCY2012\nPY2013\nCY2009\nPY2009\nCY2010\nPY2010\nCY2016\nPY2016\nCY2005\nPY2005\nCY2015\nPY2015\nCY2011\nPY2011\nCY2008\nPY2008\nCY2011\nPY2011\nCY2017\nPY2017\nCY2018\nPY2018\nCY2014\nPY2014\nCY2011\nPY2011\nCY2015\nPY2015\nCY2017\nPY2017\nCY2012\nPY2012\nCY2015\nPY2015\nCY2014\nPY2014\nCY2013\nPY2013\nCY2015\nPY2015\nCY2019\nPY2019\nCY2019\nPY2019\nCY2018\nPY2018\nCY2013\nPY2013\nCY2019\nPY2019\nCY2016\nPY2016\nCY2018\nPY2018\nCY2009\nPY2009\nCY2014\nPY2014\nCY2012\nPY2013\nCY2017\nPY2017\nCY2008\nPY2008\nCY2016\nPY2016\nCY2018\nPY2018\nCY2016\nPY2016\nCY2014\nPY2014\nCY2015\nPY2015\nCY2018\nPY2018\nCY2017\nPY2017\nCY2016\nPY2016\nCY2018\nPY2018\nCY2006\nPY2006\nCY2018\nPY2018\nCY2018\nPY2018\nCY2010\nPY2010\nCY2016\nPY2016\nCY2018\nPY2018\nCY2009\nPY2009\nCY2013\nPY2013\nCY2007\nPY2007\nCY2017\nPY2017\nCY2007\nPY2007\nCY2018\nPY2018\nCY2006\nPY2008\nCY2018\nPY2018\nCY2016\nPY2016\nCY2016\nPY2016\nCY2009\nPY2009\nCY2007\nPY2007\nCY2009\nPY2009\nCY2008\nPY2008\nCY2007\nPY2007\nCY2004\nPY2005\nCY2007\nPY2007\nCY2014\nPY2014\nCY2007\nPY2007\nCY2008\nPY2008\nCY2017\nPY2017\nCY2015\nPY2015\nCY2018\nPY2018\nCY2014\nPY2014\nCY2017\nPY2017\nCY2007\nPY2007\nCY2018\nPY2018\nCY2009\nPY2009\nCY2014\nPY2014\nCY2004\nPY2005\nCY2008\nPY2008\nCY2013\nPY2013\nCY2007\nPY2007\nCY2017\nPY2017\nCY2016\nPY2016\nCY2011\nPY2011\nCY2019\nPY2019\nCY2004\nPY2004\nCY2014\nPY2014\nCY2017\nPY2017\nCY2012\nPY2012\nCY2013\nPY2013\nCY2014\nPY2014\nCY2018\nPY2018\nCY2017\nPY2017\nCY2018\nPY2018\nCY2018\nPY2018\nCY2016\nPY2016\nCY2004\nPY2004\nCY2015\nPY2015\nCY2014\nPY2014\nCY2018\nPY2018\nCY2015\nPY2015\nCY1998\nPY2000\nCY2014\nPY2014\nCY2013\nPY2013\nCY2009\nPY2009\nCY2017\nPY2017\nCY2015\nPY2015\nCY2011\nPY2011\nCY2018\nPY2018\nCY2013\nPY2013\nCY2012\nPY2012\nCY2018\nPY2018\nCY2018\nPY2018\nCY2006\nPY2006\nCY2011\nPY2011\nCY2017\nPY2017\nCY2018\nPY2018\nCY2010\nPY2010\nCY2017\nPY2017\nCY2017\nPY2018\nCY2018\nPY2018\nCY2017\nPY2017\nCY2016\nPY2016\nCY2005\nPY2005\nCY2012\nPY2012\nCY2019\nPY2019\nCY2009\nPY2009\nCY2015\nPY2015\nCY2014\nPY2014\nCY2008\nPY2008\nCY2007\nPY2007\nCY2013\nPY2013\nCY2008\nPY2008\nCY2004\nPY2004\nCY2013\nPY2013\nCY2015\nPY2015\nCY2018\nPY2018\nCY2008\nPY2008\nCY2018\nPY2018\nCY2006\nPY2006\nCY2010\nPY2010\nCY2016\nPY2016\nCY2014\nPY2014\nCY2012\nPY2012\nCY2018\nPY2018\nCY2014\nPY2014\nCY2015\nPY2015\nCY2009\nPY2009\nCY2015\nPY2015\nCY2007\nPY2007\nCY2009\nPY2009\nCY2017\nPY2017\nCY2013\nPY2014\nCY2015\nPY2015\nCY2017\nPY2017\nCY2011\nPY2011\nCY2010\nPY2010\nCY2018\nPY2018\nCY2018\nPY2018\nCY2019\nPY2019\nCY2019\nPY2019\nCY2013\nPY2013\nCY2002\nPY2003\nCY2017\nPY2017\nCY2006\nPY2007\nCY2013\nPY2013\nCY2018\nPY2018\nCY2019\nPY2019\nCY2018\nPY2018\nCY2018\nPY2018\nCY2018\nPY2018\nCY2015\nPY2015\nCY2016\nPY2016\nCY2019\nPY2019\nCY2018\nPY2018\nCY2018\nPY2018\nCY2011\nPY2012\nCY2016\nPY2015\nCY2007\nPY2007\nCY2010\nPY2010\nCY2016\nPY2016\nCY2015\nPY2015\nCY2016\nPY2016\nCY2013\nPY2013\nCY2016\nPY2016\nCY2015\nPY2015\nCY2017\nPY2018\nCY2009\nPY2009\nCY2012\nPY2011\nCY2011\nPY2011\nCY2014\nPY2014\nCY2018\nPY2018\nCY2019\nPY2019\nCY2015\nPY2015\nCY2006\nPY2006\nCY2009\nPY2009\nCY2018\nPY2018\nCY2013\nPY2013\nCY2009\nPY2009\n2542\n"
    }
   ],
   "source": [
    "cy_cnt = 0\n",
    "for paper in wos_arr:\n",
    "    if 'CY' in paper.keys() :\n",
    "        print(\"CY\" +paper['CY'].split(', ')[-1].split('-')[-1])\n",
    "        if 'PY'in paper.keys():\n",
    "            print(\"PY\" + str(paper['PY']))\n",
    "        # print(paper['CD'])\n",
    "        # print(paper['CY'])\n",
    "        pass\n",
    "    else:\n",
    "        cy_cnt += 1\n",
    "        # print(paper)\n",
    "print(cy_cnt)    \n",
    "    "
   ]
  },
  {
   "cell_type": "code",
   "execution_count": 51,
   "metadata": {},
   "outputs": [],
   "source": [
    "# WRW\n",
    "with open(TRANSFORMED_DIR + 'Untitled.csv', 'a+') as o:\n",
    "    for n,nbrs in G.adjacency():\n",
    "        for nbr,eattr in nbrs.items():\n",
    "            weight=eattr['weight']\n",
    "            if(n < nbr):\n",
    "                line = '%d,%d,%d,' % (n,nbr,weight)\n",
    "                o.write(line+'\\n')\n"
   ]
  },
  {
   "cell_type": "code",
   "execution_count": 36,
   "metadata": {},
   "outputs": [],
   "source": [
    "# WRW_T\n",
    "with open(TRANSFORMED_DIR + 'WRW_D.csv', 'a+') as o:\n",
    "    for n,nbrs in G.adjacency():\n",
    "        for nbr,eattr in nbrs.items():\n",
    "            weight=eattr['weight']\n",
    "            if(n < nbr):\n",
    "                line = '%d,%d,%d,' % (n,nbr,weight)\n",
    "                paper = ti_to_paper[idx_to_ti[n]]\n",
    "                if 'CY' in paper.keys() :\n",
    "                    line += paper['CY'].split(', ')[-1].split('-')[-1]+ ','\n",
    "                elif 'PY'in paper.keys():\n",
    "                    line +=  str(paper['PY'])+ ','\n",
    "                else:\n",
    "                    line += ','\n",
    "                o.write(line+'\\n')"
   ]
  },
  {
   "cell_type": "code",
   "execution_count": 62,
   "metadata": {},
   "outputs": [],
   "source": [
    "with open(TRANSFORMED_DIR + 'AWA.csv', 'a+') as o:\n",
    "    for n,nbrs in GAWA.adjacency():\n",
    "        for nbr,eattr in nbrs.items():\n",
    "            data=eattr['weight']\n",
    "            if(n < nbr):\n",
    "                line = '%d,%d,%d' % (n,nbr,data)\n",
    "                o.write(line+'\\n')\n"
   ]
  },
  {
   "cell_type": "code",
   "execution_count": 44,
   "metadata": {},
   "outputs": [
    {
     "name": "stdout",
     "output_type": "stream",
     "text": "{'PT': 'S', 'AU': ['Reddy, PK', 'Kitsuregawa, M', 'Sreekanth, P', 'Rao, SS'], 'AF': ['Reddy, PK', 'Kitsuregawa, M', 'Sreekanth, P', 'Rao, SS'], 'BE': ['Bhalla, S'], 'TI': 'A graph based approach to extract a neighborhood customer community for collaborative filtering', 'SO': 'DATABASES IN NETWORKED INFORMATION SYSTEMS', 'SE': 'LECTURE NOTES IN COMPUTER SCIENCE', 'LA': 'English', 'DT': 'Article; Proceedings Paper', 'CT': '2nd International Workshop on Databases in Networked Information Systems', 'CY': 'DEC 16-18, 2002', 'CL': 'UNIV AIZU, AIZU WAKAMATSU, JAPAN', 'HO': 'UNIV AIZU', 'DE': ['electronic commerce', 'recommender systems', 'mass-customization', 'interface', 'customer loyalty', 'cross-sell', 'up-sell'], 'AB': 'In E-commerce sites, recommendation systems are used. to recommend products to their customers. Collaborative filtering (CF) is widely employed approach to recommend products. In the literature, researchers are making efforts to improve the scalability and online performance, of CF. In this paper we propose a graph based approach to improve the performance of CF. We abstract a neighborhood community of a given customer through dense bipartite graph (DBG). Given a data set of customer preferences, a group of neighborhood customers for a given customer is extracted by extracting corresponding DBG. The experimental results on the MovieLens data set show that the recommendation made with the proposed approach matches closely with the recommendation of CF. The proposed approach possesses a potential to adopt to frequent changes in the product preference data set.', 'C1': 'Int Inst Informat Technol, Hyderabad 500019, Andhra Pradesh, India. Univ Tokyo, Inst Ind Sci, Meguro Ku, Tokyo, Japan.', 'RP': 'Reddy, PK (reprint author), Int Inst Informat Technol, Hyderabad 500019, Andhra Pradesh, India.', 'CR': [{'ref': 'Aggarwal C. C., 1999, P 5 ACM SIGKDD INT C, V99, P201', 'DOI': ['10.1145/312129.312230', '10.1145/312129.312230']}, {'ref': 'Agrawal R, 1994, P VLDB', 'DOI': ['']}, {'ref': 'BENSCHAFER J, 1999, P ACM E COMM C', 'DOI': ['']}, {'ref': 'Breese J. S., 1998, P 14 C UNC ART INT, P43', 'DOI': ['']}, {'ref': 'CONNOR O, 1999, P AAAI WORKSH REC SY', 'DOI': ['']}, {'ref': 'DEAN J, 1999, P 8 WWW C', 'DOI': ['']}, {'ref': 'Flake G. W., 2000, Proceedings. KDD-2000. Sixth ACM SIGKDD International Conference on Knowledge Discovery and Data Mining, P150', 'DOI': ['10.1145/347090.347121']}, {'ref': 'GIBSON D, 1998, P 9 ACM C HYP HYP, P225', 'DOI': ['10.1145/276627.276652']}, {'ref': 'GOLDBERG A, 1984, FINDING MAXIMUN DENS, P84', 'DOI': ['']}, {'ref': 'GOLDBERG D, 1992, COMMUN ACM, V35, P61', 'DOI': ['10.1145/138859.138867']}, {'ref': 'HILL W, 1995, P SIGCHI C HUM FACT, P194', 'DOI': ['']}, {'ref': 'KLEINBERG J, 1998, P ACM SIAM S DISCR A', 'DOI': ['']}, {'ref': 'Konstan JA, 1997, COMMUN ACM, V40, P77', 'DOI': ['10.1145/245108.245126']}, {'ref': 'Kumar R, 1999, COMPUT NETW, V31, P1481', 'DOI': ['10.1016/s1389-1286(99)00040-7']}, {'ref': 'REDDY PK, 2001, P 2 INT C WEB INF SY', 'DOI': ['']}, {'ref': 'REDDY PK, 2002, WORKSH WEB AN APR 13', 'DOI': ['']}, {'ref': 'Resnick P., 1997, COMMUN ACM, P40', 'DOI': ['']}, {'ref': 'SARVAR B, 2000, ACM C EL COMM EC 00, P17', 'DOI': ['']}, {'ref': 'SARWAR B, 2000, P 10 WORLD WID WEB C', 'DOI': ['']}, {'ref': 'Shardanand U., 1995, P SIGCHI C HUM FACT, P210', 'DOI': ['10.1145/223904.223931']}, {'ref': 'Toyoda M., 2001, P HYP 2001, P103', 'DOI': ['']}, {'ref': 'Ungar L., 1998, P AAAI WORKSH REC SY', 'DOI': ['']}], 'NR': 22, 'TC': 42, 'Z9': 43, 'U1': 0, 'U2': 0, 'PU': ['SPRINGER-VERLAG BERLIN'], 'PI': 'BERLIN', 'PA': 'HEIDELBERGER PLATZ 3, D-14197 BERLIN, GERMANY', 'SN': '0302-9743', 'BN': '3-540-00264-2', 'J9': 'LECT NOTES COMPUT SC', 'PY': 2002, 'VL': '2544', 'BP': '188', 'EP': '200', 'PG': '13', 'WC': ['Computer Science, Information Systems', 'Computer Science, Theory & Methods'], 'SC': ['Computer Science'], 'GA': 'BW88U', 'UT': 'WOS:000183489800015', 'DA': '2019-12-05'}\n"
    }
   ],
   "source": [
    "print(ti_to_paper[idx_to_ti[833]])"
   ]
  },
  {
   "cell_type": "code",
   "execution_count": 44,
   "metadata": {},
   "outputs": [
    {
     "name": "stdout",
     "output_type": "stream",
     "text": "ANE: Network Embedding via Adversarial Autoencoders\n"
    }
   ],
   "source": [
    "# print(ti_to_paper[idx_to_ti[161]])"
   ]
  },
  {
   "cell_type": "code",
   "execution_count": 132,
   "metadata": {},
   "outputs": [],
   "source": [
    "np.savetxt(TRANSFORMED_DIR+'matrix.csv',WRW,fmt=\"%d\",delimiter=\",\")"
   ]
  },
  {
   "cell_type": "code",
   "execution_count": 130,
   "metadata": {},
   "outputs": [
    {
     "name": "stdout",
     "output_type": "stream",
     "text": "[[0, 1, 1], [1, 0, 0]]\n"
    }
   ],
   "source": []
  },
  {
   "cell_type": "code",
   "execution_count": 70,
   "metadata": {},
   "outputs": [
    {
     "name": "stdout",
     "output_type": "stream",
     "text": "(5541, 5541)\n"
    }
   ],
   "source": [
    "WAW = np.dot(WA,AW)\n",
    "print(WAW.shape)"
   ]
  },
  {
   "cell_type": "code",
   "execution_count": 71,
   "metadata": {},
   "outputs": [
    {
     "name": "stdout",
     "output_type": "stream",
     "text": "[[1. 0. 0. ... 0. 0. 0.]\n [0. 2. 0. ... 0. 0. 0.]\n [0. 0. 3. ... 0. 0. 0.]\n ...\n [0. 0. 0. ... 5. 0. 0.]\n [0. 0. 0. ... 0. 6. 0.]\n [0. 0. 0. ... 0. 0. 4.]]\n"
    }
   ],
   "source": [
    "print(WW)"
   ]
  },
  {
   "cell_type": "code",
   "execution_count": null,
   "metadata": {},
   "outputs": [],
   "source": [
    "author_set = set([x['DI'] for x in wos_arr if 'DI' in x.keys()])"
   ]
  },
  {
   "cell_type": "code",
   "metadata": {},
   "outputs": [],
   "source": [
    "print(idx_to_doi)\n",
    "print(doi_to_idx)"
   ]
  },
  {
   "cell_type": "code",
   "metadata": {},
   "outputs": [],
   "source": [
    "print(doi_to_paper[idx_to_doi[1]])"
   ]
  },
  {
   "cell_type": "code",
   "metadata": {},
   "outputs": [],
   "source": [
    "wc_set = set()\n",
    "wc_dict = {}\n",
    "for paper in wos_arr:\n",
    "    if('WC' in paper.keys()):\n",
    "#         wc_set.update(paper['WC'])\n",
    "        for wc in paper['WC']:\n",
    "            if(wc not in wc_dict):\n",
    "                wc_dict[wc] = 1\n",
    "            else:\n",
    "                wc_dict[wc] += 1\n",
    "print(wc_dict)"
   ]
  },
  {
   "cell_type": "code",
   "metadata": {},
   "outputs": [],
   "source": [
    "for paper in wos_arr:\n",
    "    if(\"DI\" in paper.keys()):\n",
    "        print(paper[\"WC\"])"
   ]
  },
  {
   "cell_type": "code",
   "metadata": {},
   "outputs": [],
   "source": [
    "doi_cnt = 0\n",
    "for paper in wos_arr:\n",
    "    if(\"DI\" in paper.keys()):\n",
    "        print(paper['DI'],end=\"\")\n",
    "        if(\"CR\" in paper.keys()):\n",
    "            for ref in paper['CR']:\n",
    "                if(ref[\"DOI\"][0]!=\"\"):\n",
    "                    print(\";\"+ref[\"DOI\"][0],end = \"\")\n",
    "        print(\"\")\n",
    "        \n",
    "print(doi_cnt)"
   ]
  },
  {
   "cell_type": "code",
   "metadata": {},
   "outputs": [],
   "source": [
    "cnt = 0\n",
    "for paper in wos_arr:\n",
    "    try:\n",
    "        for sentence in (paper['AB'].split('.')):\n",
    "            if \"propose\" in sentence:\n",
    "                print(sentence)\n",
    "    except:\n",
    "        cnt += 1\n",
    "        \n",
    "print(cnt)"
   ]
  },
  {
   "cell_type": "code",
   "metadata": {},
   "outputs": [],
   "source": []
  },
  {
   "cell_type": "code",
   "metadata": {},
   "outputs": [],
   "source": [
    "\n"
   ]
  }
 ],
 "metadata": {
  "kernelspec": {
   "display_name": "Python 3",
   "language": "python",
   "name": "python3"
  },
  "language_info": {
   "codemirror_mode": {
    "name": "ipython",
    "version": 3
   },
   "file_extension": ".py",
   "mimetype": "text/x-python",
   "name": "python",
   "nbconvert_exporter": "python",
   "pygments_lexer": "ipython3",
   "version": "3.7.4"
  }
 },
 "nbformat": 4,
 "nbformat_minor": 2
}